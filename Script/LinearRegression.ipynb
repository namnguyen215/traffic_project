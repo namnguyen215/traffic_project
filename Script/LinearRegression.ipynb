{
 "cells": [
  {
   "cell_type": "code",
   "execution_count": 2,
   "metadata": {},
   "outputs": [],
   "source": [
    "import numpy as np # linear algebra\n",
    "import pandas as pd # data processing, CSV file I/O (e.g. pd.read_csv)"
   ]
  },
  {
   "cell_type": "code",
   "execution_count": 3,
   "metadata": {},
   "outputs": [],
   "source": [
    "import seaborn as sns\n",
    "import matplotlib.pyplot as plt\n",
    "from matplotlib.dates import DateFormatter\n",
    "from datetime import datetime, timedelta, date\n",
    "from scipy import stats\n",
    "from sklearn.preprocessing import StandardScaler\n",
    "from sklearn.model_selection import train_test_split\n",
    "# from sklearn.ensemble import RandomForestRegressor\n",
    "# from sklearn.ensemble import GradientBoostingRegressor\n",
    "from sklearn import linear_model\n",
    "from sklearn.metrics import r2_score, mean_squared_error\n",
    "from statsmodels.graphics.tsaplots import plot_acf, plot_pacf"
   ]
  },
  {
   "cell_type": "code",
   "execution_count": 17,
   "metadata": {},
   "outputs": [],
   "source": [
    "import os\n",
    "import functools as ft\n",
    "files = os.listdir('../Dataset/weather_merged_2')\n",
    "dfs=[]\n",
    "for file in files:\n",
    "    dftmp = pd.read_csv('../Dataset/weather_merged_2'+'/'+file)\n",
    "    # dfs.append(dftmp.sample(n=5000))\n",
    "    dftmp.drop('year', axis=1, inplace=True)\n",
    "    dftmp.drop('month', axis=1, inplace=True)\n",
    "    # dftmp.drop('REPORT_ID', axis=1, inplace=True)\n",
    "    dfs.append(dftmp)\n",
    "# df = pd.concat(dfs)"
   ]
  },
  {
   "cell_type": "code",
   "execution_count": null,
   "metadata": {},
   "outputs": [],
   "source": []
  },
  {
   "cell_type": "code",
   "execution_count": 6,
   "metadata": {},
   "outputs": [],
   "source": [
    "# corr = df.corr()\n",
    "# f, ax = plt.subplots(figsize=(16, 7))\n",
    "# sns.heatmap(corr, annot=True, fmt='.2f', vmin=-1, vmax=1, square=True, linewidths=1)\n",
    "# f.suptitle('Heatmap showing the correlation of data attributes', fontsize=20)\n",
    "# plt.show()"
   ]
  },
  {
   "cell_type": "code",
   "execution_count": 7,
   "metadata": {},
   "outputs": [],
   "source": [
    "def make_metrics(models):\n",
    "    data = {\n",
    "        'name': [model.name for model in models[1:]],\n",
    "        'r2': [model.r2 for model in models[1:]],\n",
    "        'rmse': [model.rmse for model in models[1:]]\n",
    "    }\n",
    "    data['name'] = 'average R2 and sum RMSE'\n",
    "    data['r2'].append(np.mean(data['r2']))\n",
    "    data['rmse'].append(np.sum(data['rmse']))\n",
    "    return pd.DataFrame(data)"
   ]
  },
  {
   "cell_type": "code",
   "execution_count": 8,
   "metadata": {},
   "outputs": [],
   "source": [
    "class Model:\n",
    "  def __init__(self, name, data, predict_features, test_size, ml_model):\n",
    "    self.name = name\n",
    "    self.data = data\n",
    "    self.predict_features = predict_features\n",
    "    self.is_trained = False\n",
    "    self.test_size = test_size\n",
    "    self.ml_model = ml_model\n",
    "    self.do_things()\n",
    "\n",
    "  def cal_rmse(self):\n",
    "    self.rmse = mean_squared_error(self.ytest, self.ypredict, squared=False)\n",
    "    return self.rmse\n",
    "\n",
    "  def prequisite(self, test_size):\n",
    "    self.features = [i for i in self.data.columns if i != self.predict_features]\n",
    "    self.X = self.data[self.features].values\n",
    "    self.y = self.data[self.predict_features].values\n",
    "    self.Xtrain, self.Xtest, self.ytrain, self.ytest = train_test_split(self.X, self.y, test_size=test_size)\n",
    "    return None\n",
    "\n",
    "  def fit(self):\n",
    "    self.is_trained = True\n",
    "    self.ml_model.fit(self.Xtrain, self.ytrain)\n",
    "    self.ypredict = self.ml_model.predict(self.Xtest)\n",
    "    return self.ml_model\n",
    "\n",
    "  def cal_r2_score(self):\n",
    "    self.r2 = r2_score(self.ytest, self.ypredict)\n",
    "    return self.r2\n",
    "\n",
    "  def do_things(self) -> None:\n",
    "    self.prequisite(self.test_size)\n",
    "    self.fit()\n",
    "    self.cal_rmse()\n",
    "    self.cal_r2_score()\n",
    "    return None\n",
    "\n",
    "  def __repr__(self) -> str:\n",
    "    if not self.is_trained:\n",
    "      return f'<{self.name}> (is not trained yet)>'\n",
    "    return f'<({self.name}: [R² Score: {self.r2}], [RMSE: {self.rmse}])>'"
   ]
  },
  {
   "cell_type": "code",
   "execution_count": 9,
   "metadata": {},
   "outputs": [],
   "source": [
    "def getreport_id (df):\n",
    "    return df['REPORT_ID'].unique()"
   ]
  },
  {
   "cell_type": "code",
   "execution_count": 10,
   "metadata": {},
   "outputs": [
    {
     "data": {
      "text/html": [
       "<div>\n",
       "<style scoped>\n",
       "    .dataframe tbody tr th:only-of-type {\n",
       "        vertical-align: middle;\n",
       "    }\n",
       "\n",
       "    .dataframe tbody tr th {\n",
       "        vertical-align: top;\n",
       "    }\n",
       "\n",
       "    .dataframe thead th {\n",
       "        text-align: right;\n",
       "    }\n",
       "</style>\n",
       "<table border=\"1\" class=\"dataframe\">\n",
       "  <thead>\n",
       "    <tr style=\"text-align: right;\">\n",
       "      <th></th>\n",
       "      <th>name</th>\n",
       "      <th>r2</th>\n",
       "      <th>rmse</th>\n",
       "    </tr>\n",
       "  </thead>\n",
       "  <tbody>\n",
       "    <tr>\n",
       "      <th>0</th>\n",
       "      <td>average R2 and sum RMSE</td>\n",
       "      <td>0.514861</td>\n",
       "      <td>36.165153</td>\n",
       "    </tr>\n",
       "    <tr>\n",
       "      <th>1</th>\n",
       "      <td>average R2 and sum RMSE</td>\n",
       "      <td>0.145451</td>\n",
       "      <td>49.394590</td>\n",
       "    </tr>\n",
       "    <tr>\n",
       "      <th>2</th>\n",
       "      <td>average R2 and sum RMSE</td>\n",
       "      <td>0.569667</td>\n",
       "      <td>24.864471</td>\n",
       "    </tr>\n",
       "    <tr>\n",
       "      <th>3</th>\n",
       "      <td>average R2 and sum RMSE</td>\n",
       "      <td>0.450906</td>\n",
       "      <td>25.519048</td>\n",
       "    </tr>\n",
       "    <tr>\n",
       "      <th>4</th>\n",
       "      <td>average R2 and sum RMSE</td>\n",
       "      <td>0.077243</td>\n",
       "      <td>160.895614</td>\n",
       "    </tr>\n",
       "    <tr>\n",
       "      <th>...</th>\n",
       "      <td>...</td>\n",
       "      <td>...</td>\n",
       "      <td>...</td>\n",
       "    </tr>\n",
       "    <tr>\n",
       "      <th>445</th>\n",
       "      <td>average R2 and sum RMSE</td>\n",
       "      <td>0.067750</td>\n",
       "      <td>3.206678</td>\n",
       "    </tr>\n",
       "    <tr>\n",
       "      <th>446</th>\n",
       "      <td>average R2 and sum RMSE</td>\n",
       "      <td>0.001042</td>\n",
       "      <td>2.647879</td>\n",
       "    </tr>\n",
       "    <tr>\n",
       "      <th>447</th>\n",
       "      <td>average R2 and sum RMSE</td>\n",
       "      <td>0.009141</td>\n",
       "      <td>2.617543</td>\n",
       "    </tr>\n",
       "    <tr>\n",
       "      <th>448</th>\n",
       "      <td>average R2 and sum RMSE</td>\n",
       "      <td>0.065004</td>\n",
       "      <td>2.164117</td>\n",
       "    </tr>\n",
       "    <tr>\n",
       "      <th>449</th>\n",
       "      <td>average R2 and sum RMSE</td>\n",
       "      <td>0.198826</td>\n",
       "      <td>12794.290163</td>\n",
       "    </tr>\n",
       "  </tbody>\n",
       "</table>\n",
       "<p>450 rows × 3 columns</p>\n",
       "</div>"
      ],
      "text/plain": [
       "                        name        r2          rmse\n",
       "0    average R2 and sum RMSE  0.514861     36.165153\n",
       "1    average R2 and sum RMSE  0.145451     49.394590\n",
       "2    average R2 and sum RMSE  0.569667     24.864471\n",
       "3    average R2 and sum RMSE  0.450906     25.519048\n",
       "4    average R2 and sum RMSE  0.077243    160.895614\n",
       "..                       ...       ...           ...\n",
       "445  average R2 and sum RMSE  0.067750      3.206678\n",
       "446  average R2 and sum RMSE  0.001042      2.647879\n",
       "447  average R2 and sum RMSE  0.009141      2.617543\n",
       "448  average R2 and sum RMSE  0.065004      2.164117\n",
       "449  average R2 and sum RMSE  0.198826  12794.290163\n",
       "\n",
       "[450 rows x 3 columns]"
      ]
     },
     "execution_count": 10,
     "metadata": {},
     "output_type": "execute_result"
    }
   ],
   "source": [
    "models = [None]\n",
    "# list_report_id = getreport_id(df)\n",
    "for i in range(0,len(dfs)):\n",
    "    # report_id = dfs[i]['REPORT_ID'][0]\n",
    "    models += [\n",
    "        Model(\n",
    "            ml_model=linear_model.LinearRegression(),\n",
    "            name=f'Dataset of report {i}',\n",
    "            data=dfs[i],\n",
    "            predict_features='vehicleCount',\n",
    "            test_size=1/4\n",
    "        )\n",
    "    ]\n",
    "    \n",
    "make_metrics(models)"
   ]
  },
  {
   "cell_type": "code",
   "execution_count": 11,
   "metadata": {},
   "outputs": [],
   "source": [
    "#make histogram\n",
    "def make_histogram(df, feature):\n",
    "    df['r2']= df['r2'].apply(lambda x: x*100)\n",
    "    df = df[df['r2']>0]\n",
    "    plt.figure(figsize=(12, 6))\n",
    "    plt.hist(df[feature], bins=100)\n",
    "    plt.title(f'Histogram of {feature}', fontsize=20)\n",
    "    plt.xlabel(feature, fontsize=15)\n",
    "    plt.ylabel('Frequency', fontsize=15)\n",
    "    plt.show()"
   ]
  },
  {
   "cell_type": "code",
   "execution_count": 12,
   "metadata": {},
   "outputs": [],
   "source": [
    "# make_histogram(make_metrics(models), 'r2')"
   ]
  },
  {
   "cell_type": "code",
   "execution_count": 13,
   "metadata": {},
   "outputs": [],
   "source": [
    "df_predict= make_metrics(models)"
   ]
  },
  {
   "cell_type": "code",
   "execution_count": 15,
   "metadata": {},
   "outputs": [
    {
     "data": {
      "text/html": [
       "<div>\n",
       "<style scoped>\n",
       "    .dataframe tbody tr th:only-of-type {\n",
       "        vertical-align: middle;\n",
       "    }\n",
       "\n",
       "    .dataframe tbody tr th {\n",
       "        vertical-align: top;\n",
       "    }\n",
       "\n",
       "    .dataframe thead th {\n",
       "        text-align: right;\n",
       "    }\n",
       "</style>\n",
       "<table border=\"1\" class=\"dataframe\">\n",
       "  <thead>\n",
       "    <tr style=\"text-align: right;\">\n",
       "      <th></th>\n",
       "      <th>name</th>\n",
       "      <th>r2</th>\n",
       "      <th>rmse</th>\n",
       "    </tr>\n",
       "  </thead>\n",
       "  <tbody>\n",
       "    <tr>\n",
       "      <th>238</th>\n",
       "      <td>average R2 and sum RMSE</td>\n",
       "      <td>0.688277</td>\n",
       "      <td>73.850212</td>\n",
       "    </tr>\n",
       "    <tr>\n",
       "      <th>237</th>\n",
       "      <td>average R2 and sum RMSE</td>\n",
       "      <td>0.680464</td>\n",
       "      <td>64.694049</td>\n",
       "    </tr>\n",
       "    <tr>\n",
       "      <th>267</th>\n",
       "      <td>average R2 and sum RMSE</td>\n",
       "      <td>0.675037</td>\n",
       "      <td>33.587072</td>\n",
       "    </tr>\n",
       "  </tbody>\n",
       "</table>\n",
       "</div>"
      ],
      "text/plain": [
       "                        name        r2       rmse\n",
       "238  average R2 and sum RMSE  0.688277  73.850212\n",
       "237  average R2 and sum RMSE  0.680464  64.694049\n",
       "267  average R2 and sum RMSE  0.675037  33.587072"
      ]
     },
     "execution_count": 15,
     "metadata": {},
     "output_type": "execute_result"
    }
   ],
   "source": [
    "df_predict.sort_values(by=['r2'], inplace=True, ascending=False)\n",
    "df_predict.head(3)"
   ]
  },
  {
   "cell_type": "code",
   "execution_count": 16,
   "metadata": {},
   "outputs": [
    {
     "data": {
      "text/html": [
       "<div>\n",
       "<style scoped>\n",
       "    .dataframe tbody tr th:only-of-type {\n",
       "        vertical-align: middle;\n",
       "    }\n",
       "\n",
       "    .dataframe tbody tr th {\n",
       "        vertical-align: top;\n",
       "    }\n",
       "\n",
       "    .dataframe thead th {\n",
       "        text-align: right;\n",
       "    }\n",
       "</style>\n",
       "<table border=\"1\" class=\"dataframe\">\n",
       "  <thead>\n",
       "    <tr style=\"text-align: right;\">\n",
       "      <th></th>\n",
       "      <th>day</th>\n",
       "      <th>hour</th>\n",
       "      <th>avgMeasuredTime</th>\n",
       "      <th>vehicleCount</th>\n",
       "      <th>avgSpeed</th>\n",
       "    </tr>\n",
       "  </thead>\n",
       "  <tbody>\n",
       "    <tr>\n",
       "      <th>0</th>\n",
       "      <td>1</td>\n",
       "      <td>7</td>\n",
       "      <td>72.000000</td>\n",
       "      <td>40</td>\n",
       "      <td>60.000000</td>\n",
       "    </tr>\n",
       "    <tr>\n",
       "      <th>1</th>\n",
       "      <td>1</td>\n",
       "      <td>8</td>\n",
       "      <td>81.416667</td>\n",
       "      <td>235</td>\n",
       "      <td>53.583333</td>\n",
       "    </tr>\n",
       "    <tr>\n",
       "      <th>2</th>\n",
       "      <td>1</td>\n",
       "      <td>9</td>\n",
       "      <td>79.166667</td>\n",
       "      <td>234</td>\n",
       "      <td>56.000000</td>\n",
       "    </tr>\n",
       "  </tbody>\n",
       "</table>\n",
       "</div>"
      ],
      "text/plain": [
       "   day  hour  avgMeasuredTime  vehicleCount   avgSpeed\n",
       "0    1     7        72.000000            40  60.000000\n",
       "1    1     8        81.416667           235  53.583333\n",
       "2    1     9        79.166667           234  56.000000"
      ]
     },
     "execution_count": 16,
     "metadata": {},
     "output_type": "execute_result"
    }
   ],
   "source": [
    "dfs[238].head(3)"
   ]
  }
 ],
 "metadata": {
  "kernelspec": {
   "display_name": "Python 3.9.2 64-bit",
   "language": "python",
   "name": "python3"
  },
  "language_info": {
   "codemirror_mode": {
    "name": "ipython",
    "version": 3
   },
   "file_extension": ".py",
   "mimetype": "text/x-python",
   "name": "python",
   "nbconvert_exporter": "python",
   "pygments_lexer": "ipython3",
   "version": "3.9.2"
  },
  "orig_nbformat": 4,
  "vscode": {
   "interpreter": {
    "hash": "0ea2ad21493f101843a9230a98e6a9c800107df10eef217f0f5689877f90d8d7"
   }
  }
 },
 "nbformat": 4,
 "nbformat_minor": 2
}
