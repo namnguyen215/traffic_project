{
 "cells": [
  {
   "cell_type": "code",
   "execution_count": 51,
   "metadata": {},
   "outputs": [],
   "source": [
    "import pandas as pd\n",
    "import numpy as np"
   ]
  },
  {
   "cell_type": "markdown",
   "metadata": {},
   "source": [
    "#### Read weather data"
   ]
  },
  {
   "cell_type": "code",
   "execution_count": 52,
   "metadata": {},
   "outputs": [],
   "source": [
    "df_weather = pd.read_csv('../Dataset/weather/weather.csv')"
   ]
  },
  {
   "cell_type": "code",
   "execution_count": 53,
   "metadata": {},
   "outputs": [
    {
     "data": {
      "text/html": [
       "<div>\n",
       "<style scoped>\n",
       "    .dataframe tbody tr th:only-of-type {\n",
       "        vertical-align: middle;\n",
       "    }\n",
       "\n",
       "    .dataframe tbody tr th {\n",
       "        vertical-align: top;\n",
       "    }\n",
       "\n",
       "    .dataframe thead th {\n",
       "        text-align: right;\n",
       "    }\n",
       "</style>\n",
       "<table border=\"1\" class=\"dataframe\">\n",
       "  <thead>\n",
       "    <tr style=\"text-align: right;\">\n",
       "      <th></th>\n",
       "      <th>date</th>\n",
       "      <th>time</th>\n",
       "      <th>dewptm</th>\n",
       "      <th>hum</th>\n",
       "      <th>pressurem</th>\n",
       "      <th>tempm</th>\n",
       "      <th>wdird</th>\n",
       "      <th>wspdm</th>\n",
       "    </tr>\n",
       "  </thead>\n",
       "  <tbody>\n",
       "    <tr>\n",
       "      <th>0</th>\n",
       "      <td>2014-08-01</td>\n",
       "      <td>0</td>\n",
       "      <td>11.666667</td>\n",
       "      <td>64.000000</td>\n",
       "      <td>1012.0</td>\n",
       "      <td>18.000000</td>\n",
       "      <td>213.333333</td>\n",
       "      <td>6.800000</td>\n",
       "    </tr>\n",
       "    <tr>\n",
       "      <th>1</th>\n",
       "      <td>2014-08-01</td>\n",
       "      <td>1</td>\n",
       "      <td>13.333333</td>\n",
       "      <td>70.000000</td>\n",
       "      <td>1012.0</td>\n",
       "      <td>18.333333</td>\n",
       "      <td>210.000000</td>\n",
       "      <td>7.400000</td>\n",
       "    </tr>\n",
       "    <tr>\n",
       "      <th>2</th>\n",
       "      <td>2014-08-01</td>\n",
       "      <td>2</td>\n",
       "      <td>14.333333</td>\n",
       "      <td>75.333333</td>\n",
       "      <td>1012.0</td>\n",
       "      <td>18.666667</td>\n",
       "      <td>213.333333</td>\n",
       "      <td>9.866667</td>\n",
       "    </tr>\n",
       "    <tr>\n",
       "      <th>3</th>\n",
       "      <td>2014-08-01</td>\n",
       "      <td>3</td>\n",
       "      <td>15.000000</td>\n",
       "      <td>79.666667</td>\n",
       "      <td>1012.0</td>\n",
       "      <td>18.000000</td>\n",
       "      <td>226.666667</td>\n",
       "      <td>9.300000</td>\n",
       "    </tr>\n",
       "    <tr>\n",
       "      <th>4</th>\n",
       "      <td>2014-08-01</td>\n",
       "      <td>4</td>\n",
       "      <td>14.666667</td>\n",
       "      <td>80.333333</td>\n",
       "      <td>1012.0</td>\n",
       "      <td>17.666667</td>\n",
       "      <td>223.333333</td>\n",
       "      <td>8.066667</td>\n",
       "    </tr>\n",
       "  </tbody>\n",
       "</table>\n",
       "</div>"
      ],
      "text/plain": [
       "         date  time     dewptm        hum  pressurem      tempm       wdird  \\\n",
       "0  2014-08-01     0  11.666667  64.000000     1012.0  18.000000  213.333333   \n",
       "1  2014-08-01     1  13.333333  70.000000     1012.0  18.333333  210.000000   \n",
       "2  2014-08-01     2  14.333333  75.333333     1012.0  18.666667  213.333333   \n",
       "3  2014-08-01     3  15.000000  79.666667     1012.0  18.000000  226.666667   \n",
       "4  2014-08-01     4  14.666667  80.333333     1012.0  17.666667  223.333333   \n",
       "\n",
       "      wspdm  \n",
       "0  6.800000  \n",
       "1  7.400000  \n",
       "2  9.866667  \n",
       "3  9.300000  \n",
       "4  8.066667  "
      ]
     },
     "execution_count": 53,
     "metadata": {},
     "output_type": "execute_result"
    }
   ],
   "source": [
    "df_weather.head(5)"
   ]
  },
  {
   "cell_type": "markdown",
   "metadata": {},
   "source": [
    "### Merge weather data to dataset"
   ]
  },
  {
   "cell_type": "code",
   "execution_count": 54,
   "metadata": {},
   "outputs": [],
   "source": [
    "#handle each file\n",
    "def handle_detail_file(df_detail):\n",
    "    df_detail['date'] = df_detail['TIMESTAMP'].apply(lambda x: x.split('T')[0])\n",
    "    df_detail['time'] = df_detail['TIMESTAMP'].apply(lambda x: x.split('T')[1].split(':')[0])\n",
    "    df_detail.drop(columns=['status','extID','medianMeasuredTime','TIMESTAMP'], inplace= True)\n",
    "    df_group = df_detail.groupby(['date', 'time']).agg({'avgMeasuredTime': 'mean','vehicleCount': 'sum'}).reset_index()\n",
    "    return df_group"
   ]
  },
  {
   "cell_type": "code",
   "execution_count": 55,
   "metadata": {},
   "outputs": [],
   "source": [
    "#merge with weather data\n",
    "def merge_with_weather(df_detail, df_weather):\n",
    "    df_detail['time'] = pd.to_numeric(df_detail['time'])\n",
    "    return pd.merge(df_detail, df_weather, on=['date', 'time'], how='left')\n"
   ]
  },
  {
   "cell_type": "code",
   "execution_count": 56,
   "metadata": {},
   "outputs": [],
   "source": [
    "#merge with cultural event data\n",
    "def merge_cultural_event(df_merge_weather):\n",
    "    df_cultural_event = pd.read_csv('../Dataset/cultural_events_aarhus.csv', header=None, usecols=[12,16])\n",
    "    df_cultural_event.columns = ['timestamp', 'event']\n",
    "    df_cultural_event['date'] = df_cultural_event['timestamp'].apply(lambda x: x.split('T')[0])\n",
    "    df_cultural_event['time'] = df_cultural_event['timestamp'].apply(lambda x: x.split('T')[1].split(':')[0])\n",
    "    df_cultural_event.drop(columns=['timestamp'], inplace= True)\n",
    "    df_cultural_event['time'] = pd.to_numeric(df_cultural_event['time'])\n",
    "    df_merge = pd.merge(df_merge_weather, df_cultural_event, on=['date', 'time'], how='left')\n",
    "    df_merge['event'] = df_merge['event'].replace(np.nan, 'No Event')\n",
    "    return df_merge"
   ]
  },
  {
   "cell_type": "code",
   "execution_count": 57,
   "metadata": {},
   "outputs": [],
   "source": [
    "#read all file in traffic_feb_june folder\n",
    "import os\n",
    "files = os.listdir('../Dataset/traffic_june_sep/')\n",
    "# dff = pd.DataFrame(columns=[\"status\",\"avgMeasuredTime\",\"avgSpeed\",\"extID\",\"medianMeasuredTime\",\"TIMESTAMP\",\"vehicleCount\",\"_id\",\"REPORT_ID\"])\n",
    "for filename in files:\n",
    "    dff_temp = pd.read_csv('../Dataset/traffic_june_sep/'+filename)\n",
    "    dff_detail = handle_detail_file(dff_temp)\n",
    "    dff_merge_weather = merge_with_weather(dff_detail, df_weather)\n",
    "    df_merge = merge_cultural_event(dff_merge_weather)\n",
    "    df_merge.to_csv('../Dataset/weather_merged1/add_feature_'+filename,index = False)"
   ]
  }
 ],
 "metadata": {
  "kernelspec": {
   "display_name": "Python 3.9.2 64-bit",
   "language": "python",
   "name": "python3"
  },
  "language_info": {
   "codemirror_mode": {
    "name": "ipython",
    "version": 3
   },
   "file_extension": ".py",
   "mimetype": "text/x-python",
   "name": "python",
   "nbconvert_exporter": "python",
   "pygments_lexer": "ipython3",
   "version": "3.9.2"
  },
  "orig_nbformat": 4,
  "vscode": {
   "interpreter": {
    "hash": "0ea2ad21493f101843a9230a98e6a9c800107df10eef217f0f5689877f90d8d7"
   }
  }
 },
 "nbformat": 4,
 "nbformat_minor": 2
}
