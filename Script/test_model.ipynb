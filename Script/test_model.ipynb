{
 "cells": [
  {
   "cell_type": "code",
   "execution_count": 1,
   "metadata": {},
   "outputs": [],
   "source": [
    "import pickle\n",
    "import numpy as np\n",
    "import pandas as pd\n",
    "from sklearn.tree import DecisionTreeRegressor"
   ]
  },
  {
   "cell_type": "code",
   "execution_count": 2,
   "metadata": {},
   "outputs": [],
   "source": [
    "#load model\n",
    "model = pickle.load(open('model_192600.sav','rb'))"
   ]
  },
  {
   "cell_type": "code",
   "execution_count": 3,
   "metadata": {},
   "outputs": [
    {
     "data": {
      "text/html": [
       "<div>\n",
       "<style scoped>\n",
       "    .dataframe tbody tr th:only-of-type {\n",
       "        vertical-align: middle;\n",
       "    }\n",
       "\n",
       "    .dataframe tbody tr th {\n",
       "        vertical-align: top;\n",
       "    }\n",
       "\n",
       "    .dataframe thead th {\n",
       "        text-align: right;\n",
       "    }\n",
       "</style>\n",
       "<table border=\"1\" class=\"dataframe\">\n",
       "  <thead>\n",
       "    <tr style=\"text-align: right;\">\n",
       "      <th></th>\n",
       "      <th>year</th>\n",
       "      <th>month</th>\n",
       "      <th>day</th>\n",
       "      <th>hour</th>\n",
       "      <th>REPORT_ID</th>\n",
       "      <th>avgMeasuredTime</th>\n",
       "      <th>vehicleCount</th>\n",
       "      <th>avgSpeed</th>\n",
       "    </tr>\n",
       "  </thead>\n",
       "  <tbody>\n",
       "    <tr>\n",
       "      <th>0</th>\n",
       "      <td>2014</td>\n",
       "      <td>08</td>\n",
       "      <td>01</td>\n",
       "      <td>07</td>\n",
       "      <td>192600</td>\n",
       "      <td>72.0</td>\n",
       "      <td>40</td>\n",
       "      <td>60.0</td>\n",
       "    </tr>\n",
       "    <tr>\n",
       "      <th>1</th>\n",
       "      <td>2014</td>\n",
       "      <td>08</td>\n",
       "      <td>01</td>\n",
       "      <td>08</td>\n",
       "      <td>192600</td>\n",
       "      <td>81.41666666666667</td>\n",
       "      <td>235</td>\n",
       "      <td>53.583333333333336</td>\n",
       "    </tr>\n",
       "    <tr>\n",
       "      <th>2</th>\n",
       "      <td>2014</td>\n",
       "      <td>08</td>\n",
       "      <td>01</td>\n",
       "      <td>09</td>\n",
       "      <td>192600</td>\n",
       "      <td>79.16666666666667</td>\n",
       "      <td>234</td>\n",
       "      <td>56.0</td>\n",
       "    </tr>\n",
       "  </tbody>\n",
       "</table>\n",
       "</div>"
      ],
      "text/plain": [
       "   year month day hour REPORT_ID    avgMeasuredTime vehicleCount  \\\n",
       "0  2014    08  01   07    192600               72.0           40   \n",
       "1  2014    08  01   08    192600  81.41666666666667          235   \n",
       "2  2014    08  01   09    192600  79.16666666666667          234   \n",
       "\n",
       "             avgSpeed  \n",
       "0                60.0  \n",
       "1  53.583333333333336  \n",
       "2                56.0  "
      ]
     },
     "execution_count": 3,
     "metadata": {},
     "output_type": "execute_result"
    }
   ],
   "source": [
    "df1 = pd.read_csv(\"../Dataset/weather_merged_2/add_feature_trafficData192600.csv\", dtype = str)\n",
    "df1.head(3)"
   ]
  },
  {
   "cell_type": "code",
   "execution_count": 4,
   "metadata": {},
   "outputs": [],
   "source": [
    "def make_metrics(model):\n",
    "    data = {\n",
    "        'name': model.name ,\n",
    "        'r2': model.r2 ,\n",
    "        'rmse': model.rmse\n",
    "    }\n",
    "    # data['name'] = 'average R2 and sum RMSE'\n",
    "    # data['r2'].append(np.mean(data['r2']))\n",
    "    # data['rmse'].append(np.sum(data['rmse']))\n",
    "    return pd.DataFrame(data)"
   ]
  },
  {
   "cell_type": "code",
   "execution_count": 5,
   "metadata": {},
   "outputs": [],
   "source": [
    "from sklearn.metrics import r2_score, mean_squared_error\n",
    "from sklearn.model_selection import train_test_split"
   ]
  },
  {
   "cell_type": "code",
   "execution_count": 6,
   "metadata": {},
   "outputs": [],
   "source": [
    "class Model:\n",
    "  def __init__(self, name, data, predict_features, test_size, ml_model):\n",
    "    self.name = name\n",
    "    self.data = data\n",
    "    self.predict_features = predict_features\n",
    "    self.is_trained = False\n",
    "    self.test_size = test_size\n",
    "    self.ml_model = ml_model\n",
    "    self.do_things()\n",
    "\n",
    "  def cal_rmse(self):\n",
    "    self.rmse = mean_squared_error(self.ytest, self.ypredict, squared=False)\n",
    "    return self.rmse\n",
    "\n",
    "  def prequisite(self, test_size):\n",
    "    self.features = [i for i in self.data.columns if i != self.predict_features]\n",
    "    self.X = self.data[self.features].values\n",
    "    self.y = self.data[self.predict_features].values\n",
    "    self.Xtrain, self.Xtest, self.ytrain, self.ytest = train_test_split(self.X, self.y, test_size=test_size)\n",
    "    return None\n",
    "\n",
    "  def fit(self):\n",
    "    self.is_trained = True\n",
    "    self.ml_model.fit(self.Xtrain, self.ytrain)\n",
    "    self.ypredict = self.ml_model.predict(self.Xtest)\n",
    "    return self.ml_model\n",
    "\n",
    "  def cal_r2_score(self):\n",
    "    self.r2 = r2_score(self.ytest, self.ypredict)\n",
    "    return self.r2\n",
    "\n",
    "  def do_things(self) -> None:\n",
    "    self.prequisite(self.test_size)\n",
    "    self.fit()\n",
    "    self.cal_rmse()\n",
    "    self.cal_r2_score()\n",
    "    return None\n",
    "\n",
    "  def __repr__(self) -> str:\n",
    "    if not self.is_trained:\n",
    "      return f'<{self.name}> (is not trained yet)>'\n",
    "    return f'<({self.name}: [R² Score: {self.r2}], [RMSE: {self.rmse}])>'"
   ]
  },
  {
   "cell_type": "code",
   "execution_count": 8,
   "metadata": {},
   "outputs": [],
   "source": [
    "X = df.iloc[:, :-1].values\n",
    "Y = df.iloc[:, -1].values.reshape(-1,1)\n",
    "from sklearn.model_selection import train_test_split\n",
    "X_train, X_test, Y_train, Y_test = train_test_split(X, Y, test_size=.2, random_state=41)"
   ]
  },
  {
   "cell_type": "code",
   "execution_count": 9,
   "metadata": {},
   "outputs": [
    {
     "data": {
      "text/plain": [
       "0.780959793434666"
      ]
     },
     "execution_count": 9,
     "metadata": {},
     "output_type": "execute_result"
    }
   ],
   "source": [
    "model.r2"
   ]
  }
 ],
 "metadata": {
  "kernelspec": {
   "display_name": "Python 3.9.2 64-bit",
   "language": "python",
   "name": "python3"
  },
  "language_info": {
   "codemirror_mode": {
    "name": "ipython",
    "version": 3
   },
   "file_extension": ".py",
   "mimetype": "text/x-python",
   "name": "python",
   "nbconvert_exporter": "python",
   "pygments_lexer": "ipython3",
   "version": "3.9.2"
  },
  "orig_nbformat": 4,
  "vscode": {
   "interpreter": {
    "hash": "0ea2ad21493f101843a9230a98e6a9c800107df10eef217f0f5689877f90d8d7"
   }
  }
 },
 "nbformat": 4,
 "nbformat_minor": 2
}
