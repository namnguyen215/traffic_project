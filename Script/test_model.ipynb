{
 "cells": [
  {
   "cell_type": "code",
   "execution_count": 1,
   "metadata": {},
   "outputs": [],
   "source": [
    "import pickle\n",
    "import numpy as np\n",
    "import pandas as pd"
   ]
  },
  {
   "cell_type": "code",
   "execution_count": 5,
   "metadata": {},
   "outputs": [],
   "source": [
    "#load model\n",
    "model = pickle.load(open('model_192600.sav','rb'))"
   ]
  },
  {
   "cell_type": "code",
   "execution_count": 6,
   "metadata": {},
   "outputs": [
    {
     "data": {
      "text/html": [
       "<div>\n",
       "<style scoped>\n",
       "    .dataframe tbody tr th:only-of-type {\n",
       "        vertical-align: middle;\n",
       "    }\n",
       "\n",
       "    .dataframe tbody tr th {\n",
       "        vertical-align: top;\n",
       "    }\n",
       "\n",
       "    .dataframe thead th {\n",
       "        text-align: right;\n",
       "    }\n",
       "</style>\n",
       "<table border=\"1\" class=\"dataframe\">\n",
       "  <thead>\n",
       "    <tr style=\"text-align: right;\">\n",
       "      <th></th>\n",
       "      <th>year</th>\n",
       "      <th>month</th>\n",
       "      <th>day</th>\n",
       "      <th>hour</th>\n",
       "      <th>REPORT_ID</th>\n",
       "      <th>avgMeasuredTime</th>\n",
       "      <th>vehicleCount</th>\n",
       "      <th>avgSpeed</th>\n",
       "    </tr>\n",
       "  </thead>\n",
       "  <tbody>\n",
       "    <tr>\n",
       "      <th>0</th>\n",
       "      <td>2014</td>\n",
       "      <td>08</td>\n",
       "      <td>01</td>\n",
       "      <td>07</td>\n",
       "      <td>192600</td>\n",
       "      <td>72.0</td>\n",
       "      <td>40</td>\n",
       "      <td>60.0</td>\n",
       "    </tr>\n",
       "    <tr>\n",
       "      <th>1</th>\n",
       "      <td>2014</td>\n",
       "      <td>08</td>\n",
       "      <td>01</td>\n",
       "      <td>08</td>\n",
       "      <td>192600</td>\n",
       "      <td>81.41666666666667</td>\n",
       "      <td>235</td>\n",
       "      <td>53.583333333333336</td>\n",
       "    </tr>\n",
       "    <tr>\n",
       "      <th>2</th>\n",
       "      <td>2014</td>\n",
       "      <td>08</td>\n",
       "      <td>01</td>\n",
       "      <td>09</td>\n",
       "      <td>192600</td>\n",
       "      <td>79.16666666666667</td>\n",
       "      <td>234</td>\n",
       "      <td>56.0</td>\n",
       "    </tr>\n",
       "  </tbody>\n",
       "</table>\n",
       "</div>"
      ],
      "text/plain": [
       "   year month day hour REPORT_ID    avgMeasuredTime vehicleCount  \\\n",
       "0  2014    08  01   07    192600               72.0           40   \n",
       "1  2014    08  01   08    192600  81.41666666666667          235   \n",
       "2  2014    08  01   09    192600  79.16666666666667          234   \n",
       "\n",
       "             avgSpeed  \n",
       "0                60.0  \n",
       "1  53.583333333333336  \n",
       "2                56.0  "
      ]
     },
     "execution_count": 6,
     "metadata": {},
     "output_type": "execute_result"
    }
   ],
   "source": [
    "df1 = pd.read_csv(\"../Dataset/weather_merged_2/add_feature_trafficData192600.csv\", dtype = str)\n",
    "df1.head(3)"
   ]
  },
  {
   "cell_type": "code",
   "execution_count": 18,
   "metadata": {},
   "outputs": [],
   "source": [
    "def make_metrics(model):\n",
    "    data = {\n",
    "        'name': model.name ,\n",
    "        'r2': model.r2 ,\n",
    "        'rmse': model.rmse\n",
    "    }\n",
    "    # data['name'] = 'average R2 and sum RMSE'\n",
    "    # data['r2'].append(np.mean(data['r2']))\n",
    "    # data['rmse'].append(np.sum(data['rmse']))\n",
    "    return pd.DataFrame(data)"
   ]
  },
  {
   "cell_type": "code",
   "execution_count": 12,
   "metadata": {},
   "outputs": [],
   "source": [
    "from sklearn.metrics import r2_score, mean_squared_error\n",
    "from sklearn.model_selection import train_test_split"
   ]
  },
  {
   "cell_type": "code",
   "execution_count": 13,
   "metadata": {},
   "outputs": [],
   "source": [
    "class Model:\n",
    "  def __init__(self, name, data, predict_features, test_size, ml_model):\n",
    "    self.name = name\n",
    "    self.data = data\n",
    "    self.predict_features = predict_features\n",
    "    self.is_trained = False\n",
    "    self.test_size = test_size\n",
    "    self.ml_model = ml_model\n",
    "    self.do_things()\n",
    "\n",
    "  def cal_rmse(self):\n",
    "    self.rmse = mean_squared_error(self.ytest, self.ypredict, squared=False)\n",
    "    return self.rmse\n",
    "\n",
    "  def prequisite(self, test_size):\n",
    "    self.features = [i for i in self.data.columns if i != self.predict_features]\n",
    "    self.X = self.data[self.features].values\n",
    "    self.y = self.data[self.predict_features].values\n",
    "    self.Xtrain, self.Xtest, self.ytrain, self.ytest = train_test_split(self.X, self.y, test_size=test_size)\n",
    "    return None\n",
    "\n",
    "  def fit(self):\n",
    "    self.is_trained = True\n",
    "    self.ml_model.fit(self.Xtrain, self.ytrain)\n",
    "    self.ypredict = self.ml_model.predict(self.Xtest)\n",
    "    return self.ml_model\n",
    "\n",
    "  def cal_r2_score(self):\n",
    "    self.r2 = r2_score(self.ytest, self.ypredict)\n",
    "    return self.r2\n",
    "\n",
    "  def do_things(self) -> None:\n",
    "    self.prequisite(self.test_size)\n",
    "    self.fit()\n",
    "    self.cal_rmse()\n",
    "    self.cal_r2_score()\n",
    "    return None\n",
    "\n",
    "  def __repr__(self) -> str:\n",
    "    if not self.is_trained:\n",
    "      return f'<{self.name}> (is not trained yet)>'\n",
    "    return f'<({self.name}: [R² Score: {self.r2}], [RMSE: {self.rmse}])>'"
   ]
  },
  {
   "cell_type": "code",
   "execution_count": 19,
   "metadata": {},
   "outputs": [
    {
     "ename": "TypeError",
     "evalue": "fit() takes 1 positional argument but 3 were given",
     "output_type": "error",
     "traceback": [
      "\u001b[1;31m---------------------------------------------------------------------------\u001b[0m",
      "\u001b[1;31mTypeError\u001b[0m                                 Traceback (most recent call last)",
      "\u001b[1;32mC:\\Users\\NGUYEN~1\\AppData\\Local\\Temp/ipykernel_2632/644260254.py\u001b[0m in \u001b[0;36m<module>\u001b[1;34m\u001b[0m\n\u001b[1;32m----> 1\u001b[1;33m model = Model(\n\u001b[0m\u001b[0;32m      2\u001b[0m             \u001b[0mml_model\u001b[0m\u001b[1;33m=\u001b[0m\u001b[0mmodel\u001b[0m\u001b[1;33m,\u001b[0m\u001b[1;33m\u001b[0m\u001b[1;33m\u001b[0m\u001b[0m\n\u001b[0;32m      3\u001b[0m             \u001b[0mname\u001b[0m\u001b[1;33m=\u001b[0m\u001b[1;34mf'Dataset of report 192600'\u001b[0m\u001b[1;33m,\u001b[0m\u001b[1;33m\u001b[0m\u001b[1;33m\u001b[0m\u001b[0m\n\u001b[0;32m      4\u001b[0m             \u001b[0mdata\u001b[0m\u001b[1;33m=\u001b[0m\u001b[0mdf1\u001b[0m\u001b[1;33m,\u001b[0m\u001b[1;33m\u001b[0m\u001b[1;33m\u001b[0m\u001b[0m\n\u001b[0;32m      5\u001b[0m             \u001b[0mpredict_features\u001b[0m\u001b[1;33m=\u001b[0m\u001b[1;34m'vehicleCount'\u001b[0m\u001b[1;33m,\u001b[0m\u001b[1;33m\u001b[0m\u001b[1;33m\u001b[0m\u001b[0m\n",
      "\u001b[1;32mC:\\Users\\NGUYEN~1\\AppData\\Local\\Temp/ipykernel_2632/2021099406.py\u001b[0m in \u001b[0;36m__init__\u001b[1;34m(self, name, data, predict_features, test_size, ml_model)\u001b[0m\n\u001b[0;32m      7\u001b[0m     \u001b[0mself\u001b[0m\u001b[1;33m.\u001b[0m\u001b[0mtest_size\u001b[0m \u001b[1;33m=\u001b[0m \u001b[0mtest_size\u001b[0m\u001b[1;33m\u001b[0m\u001b[1;33m\u001b[0m\u001b[0m\n\u001b[0;32m      8\u001b[0m     \u001b[0mself\u001b[0m\u001b[1;33m.\u001b[0m\u001b[0mml_model\u001b[0m \u001b[1;33m=\u001b[0m \u001b[0mml_model\u001b[0m\u001b[1;33m\u001b[0m\u001b[1;33m\u001b[0m\u001b[0m\n\u001b[1;32m----> 9\u001b[1;33m     \u001b[0mself\u001b[0m\u001b[1;33m.\u001b[0m\u001b[0mdo_things\u001b[0m\u001b[1;33m(\u001b[0m\u001b[1;33m)\u001b[0m\u001b[1;33m\u001b[0m\u001b[1;33m\u001b[0m\u001b[0m\n\u001b[0m\u001b[0;32m     10\u001b[0m \u001b[1;33m\u001b[0m\u001b[0m\n\u001b[0;32m     11\u001b[0m   \u001b[1;32mdef\u001b[0m \u001b[0mcal_rmse\u001b[0m\u001b[1;33m(\u001b[0m\u001b[0mself\u001b[0m\u001b[1;33m)\u001b[0m\u001b[1;33m:\u001b[0m\u001b[1;33m\u001b[0m\u001b[1;33m\u001b[0m\u001b[0m\n",
      "\u001b[1;32mC:\\Users\\NGUYEN~1\\AppData\\Local\\Temp/ipykernel_2632/2021099406.py\u001b[0m in \u001b[0;36mdo_things\u001b[1;34m(self)\u001b[0m\n\u001b[0;32m     32\u001b[0m   \u001b[1;32mdef\u001b[0m \u001b[0mdo_things\u001b[0m\u001b[1;33m(\u001b[0m\u001b[0mself\u001b[0m\u001b[1;33m)\u001b[0m \u001b[1;33m->\u001b[0m \u001b[1;32mNone\u001b[0m\u001b[1;33m:\u001b[0m\u001b[1;33m\u001b[0m\u001b[1;33m\u001b[0m\u001b[0m\n\u001b[0;32m     33\u001b[0m     \u001b[0mself\u001b[0m\u001b[1;33m.\u001b[0m\u001b[0mprequisite\u001b[0m\u001b[1;33m(\u001b[0m\u001b[0mself\u001b[0m\u001b[1;33m.\u001b[0m\u001b[0mtest_size\u001b[0m\u001b[1;33m)\u001b[0m\u001b[1;33m\u001b[0m\u001b[1;33m\u001b[0m\u001b[0m\n\u001b[1;32m---> 34\u001b[1;33m     \u001b[0mself\u001b[0m\u001b[1;33m.\u001b[0m\u001b[0mfit\u001b[0m\u001b[1;33m(\u001b[0m\u001b[1;33m)\u001b[0m\u001b[1;33m\u001b[0m\u001b[1;33m\u001b[0m\u001b[0m\n\u001b[0m\u001b[0;32m     35\u001b[0m     \u001b[0mself\u001b[0m\u001b[1;33m.\u001b[0m\u001b[0mcal_rmse\u001b[0m\u001b[1;33m(\u001b[0m\u001b[1;33m)\u001b[0m\u001b[1;33m\u001b[0m\u001b[1;33m\u001b[0m\u001b[0m\n\u001b[0;32m     36\u001b[0m     \u001b[0mself\u001b[0m\u001b[1;33m.\u001b[0m\u001b[0mcal_r2_score\u001b[0m\u001b[1;33m(\u001b[0m\u001b[1;33m)\u001b[0m\u001b[1;33m\u001b[0m\u001b[1;33m\u001b[0m\u001b[0m\n",
      "\u001b[1;32mC:\\Users\\NGUYEN~1\\AppData\\Local\\Temp/ipykernel_2632/2021099406.py\u001b[0m in \u001b[0;36mfit\u001b[1;34m(self)\u001b[0m\n\u001b[0;32m     22\u001b[0m   \u001b[1;32mdef\u001b[0m \u001b[0mfit\u001b[0m\u001b[1;33m(\u001b[0m\u001b[0mself\u001b[0m\u001b[1;33m)\u001b[0m\u001b[1;33m:\u001b[0m\u001b[1;33m\u001b[0m\u001b[1;33m\u001b[0m\u001b[0m\n\u001b[0;32m     23\u001b[0m     \u001b[0mself\u001b[0m\u001b[1;33m.\u001b[0m\u001b[0mis_trained\u001b[0m \u001b[1;33m=\u001b[0m \u001b[1;32mTrue\u001b[0m\u001b[1;33m\u001b[0m\u001b[1;33m\u001b[0m\u001b[0m\n\u001b[1;32m---> 24\u001b[1;33m     \u001b[0mself\u001b[0m\u001b[1;33m.\u001b[0m\u001b[0mml_model\u001b[0m\u001b[1;33m.\u001b[0m\u001b[0mfit\u001b[0m\u001b[1;33m(\u001b[0m\u001b[0mself\u001b[0m\u001b[1;33m.\u001b[0m\u001b[0mXtrain\u001b[0m\u001b[1;33m,\u001b[0m \u001b[0mself\u001b[0m\u001b[1;33m.\u001b[0m\u001b[0mytrain\u001b[0m\u001b[1;33m)\u001b[0m\u001b[1;33m\u001b[0m\u001b[1;33m\u001b[0m\u001b[0m\n\u001b[0m\u001b[0;32m     25\u001b[0m     \u001b[0mself\u001b[0m\u001b[1;33m.\u001b[0m\u001b[0mypredict\u001b[0m \u001b[1;33m=\u001b[0m \u001b[0mself\u001b[0m\u001b[1;33m.\u001b[0m\u001b[0mml_model\u001b[0m\u001b[1;33m.\u001b[0m\u001b[0mpredict\u001b[0m\u001b[1;33m(\u001b[0m\u001b[0mself\u001b[0m\u001b[1;33m.\u001b[0m\u001b[0mXtest\u001b[0m\u001b[1;33m)\u001b[0m\u001b[1;33m\u001b[0m\u001b[1;33m\u001b[0m\u001b[0m\n\u001b[0;32m     26\u001b[0m     \u001b[1;32mreturn\u001b[0m \u001b[0mself\u001b[0m\u001b[1;33m.\u001b[0m\u001b[0mml_model\u001b[0m\u001b[1;33m\u001b[0m\u001b[1;33m\u001b[0m\u001b[0m\n",
      "\u001b[1;31mTypeError\u001b[0m: fit() takes 1 positional argument but 3 were given"
     ]
    }
   ],
   "source": [
    "\n",
    "model = Model(\n",
    "            ml_model=model,\n",
    "            name=f'Dataset of report 192600',\n",
    "            data=df1,\n",
    "            predict_features='vehicleCount',\n",
    "            test_size=1/4\n",
    "        )\n",
    "make_metrics(model)"
   ]
  }
 ],
 "metadata": {
  "kernelspec": {
   "display_name": "Python 3.9.2 64-bit",
   "language": "python",
   "name": "python3"
  },
  "language_info": {
   "codemirror_mode": {
    "name": "ipython",
    "version": 3
   },
   "file_extension": ".py",
   "mimetype": "text/x-python",
   "name": "python",
   "nbconvert_exporter": "python",
   "pygments_lexer": "ipython3",
   "version": "3.9.2"
  },
  "orig_nbformat": 4,
  "vscode": {
   "interpreter": {
    "hash": "0ea2ad21493f101843a9230a98e6a9c800107df10eef217f0f5689877f90d8d7"
   }
  }
 },
 "nbformat": 4,
 "nbformat_minor": 2
}
